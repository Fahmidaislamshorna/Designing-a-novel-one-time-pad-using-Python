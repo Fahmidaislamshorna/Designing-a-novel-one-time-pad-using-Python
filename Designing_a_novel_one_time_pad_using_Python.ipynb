{
  "nbformat": 4,
  "nbformat_minor": 0,
  "metadata": {
    "colab": {
      "provenance": []
    },
    "kernelspec": {
      "name": "python3",
      "display_name": "Python 3"
    },
    "language_info": {
      "name": "python"
    }
  },
  "cells": [
    {
      "cell_type": "code",
      "execution_count": 2,
      "metadata": {
        "colab": {
          "base_uri": "https://localhost:8080/"
        },
        "id": "WY_zeBSgOuDz",
        "outputId": "af64ee2c-a2cd-4b6a-f215-95d327f96739"
      },
      "outputs": [
        {
          "output_type": "stream",
          "name": "stdout",
          "text": [
            "Original Message:  SECRET\n",
            "Generated Key:  [172, 24, 136, 125, 212, 209]\n",
            "Ciphertext (Numbers):  [255, 93, 203, 47, 145, 133]\n",
            "Decrypted Message:  SECRET\n"
          ]
        }
      ],
      "source": [
        "import os\n",
        "\n",
        "# Function to generate a random key\n",
        "def generate_key(length):\n",
        "    return [os.urandom(1)[0] for _ in range(length)]\n",
        "\n",
        "# Function to encrypt a message\n",
        "def encrypt(message, key):\n",
        "    encrypted = [ord(m) ^ k for m, k in zip(message, key)]\n",
        "    return encrypted\n",
        "\n",
        "# Function to decrypt a message\n",
        "def decrypt(encrypted_message, key):\n",
        "    decrypted = ''.join(chr(c ^ k) for c, k in zip(encrypted_message, key))\n",
        "    return decrypted\n",
        "\n",
        "# Input message\n",
        "message = \"SECRET\"\n",
        "\n",
        "# Generate key\n",
        "key = generate_key(len(message))\n",
        "\n",
        "# Encrypt the message\n",
        "ciphertext = encrypt(message, key)\n",
        "\n",
        "# Decrypt the ciphertext\n",
        "decrypted_message = decrypt(ciphertext, key)\n",
        "\n",
        "# Print the results\n",
        "print(\"Original Message: \", message)\n",
        "print(\"Generated Key: \", key)\n",
        "print(\"Ciphertext (Numbers): \", ciphertext)\n",
        "print(\"Decrypted Message: \", decrypted_message)\n"
      ]
    }
  ]
}